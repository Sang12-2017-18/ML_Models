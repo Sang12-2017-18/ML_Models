{
 "cells": [
  {
   "cell_type": "code",
   "execution_count": 1,
   "id": "5abc8fa6",
   "metadata": {
    "_cell_guid": "b1076dfc-b9ad-4769-8c92-a6c4dae69d19",
    "_uuid": "8f2839f25d086af736a60e9eeb907d3b93b6e0e5",
    "execution": {
     "iopub.execute_input": "2022-03-03T04:35:18.538260Z",
     "iopub.status.busy": "2022-03-03T04:35:18.537038Z",
     "iopub.status.idle": "2022-03-03T04:35:18.552983Z",
     "shell.execute_reply": "2022-03-03T04:35:18.553611Z",
     "shell.execute_reply.started": "2022-03-03T03:49:56.821806Z"
    },
    "papermill": {
     "duration": 0.031945,
     "end_time": "2022-03-03T04:35:18.553897",
     "exception": false,
     "start_time": "2022-03-03T04:35:18.521952",
     "status": "completed"
    },
    "tags": []
   },
   "outputs": [
    {
     "name": "stdout",
     "output_type": "stream",
     "text": [
      "/kaggle/input/diabetes-dataset/diabetes2.csv\n"
     ]
    }
   ],
   "source": [
    "# This Python 3 environment comes with many helpful analytics libraries installed\n",
    "# It is defined by the kaggle/python Docker image: https://github.com/kaggle/docker-python\n",
    "# For example, here's several helpful packages to load\n",
    "\n",
    "import numpy as np # linear algebra\n",
    "import pandas as pd # data processing, CSV file I/O (e.g. pd.read_csv)\n",
    "\n",
    "# Input data files are available in the read-only \"../input/\" directory\n",
    "# For example, running this (by clicking run or pressing Shift+Enter) will list all files under the input directory\n",
    "\n",
    "import os\n",
    "for dirname, _, filenames in os.walk('/kaggle/input'):\n",
    "    for filename in filenames:\n",
    "        print(os.path.join(dirname, filename))\n",
    "\n",
    "# You can write up to 20GB to the current directory (/kaggle/working/) that gets preserved as output when you create a version using \"Save & Run All\" \n",
    "# You can also write temporary files to /kaggle/temp/, but they won't be saved outside of the current session"
   ]
  },
  {
   "cell_type": "code",
   "execution_count": 2,
   "id": "48326c56",
   "metadata": {
    "execution": {
     "iopub.execute_input": "2022-03-03T04:35:18.579336Z",
     "iopub.status.busy": "2022-03-03T04:35:18.578673Z",
     "iopub.status.idle": "2022-03-03T04:35:18.607462Z",
     "shell.execute_reply": "2022-03-03T04:35:18.606702Z",
     "shell.execute_reply.started": "2022-03-03T04:22:58.716830Z"
    },
    "papermill": {
     "duration": 0.042151,
     "end_time": "2022-03-03T04:35:18.607620",
     "exception": false,
     "start_time": "2022-03-03T04:35:18.565469",
     "status": "completed"
    },
    "tags": []
   },
   "outputs": [],
   "source": [
    "# Visualize the dataset\n",
    "\n",
    "# Step 1: read the file\n",
    "filename = '/kaggle/input/diabetes-dataset/diabetes2.csv'\n",
    "from pandas import read_csv\n",
    "df = read_csv(filename)\n",
    "for column in [\"Glucose\", \"BloodPressure\", \"SkinThickness\", \"Insulin\", \"BMI\", \"DiabetesPedigreeFunction\", \"Age\"]:\n",
    "    bad = (df[column] == 0)\n",
    "    df.loc[bad, column] = None\n"
   ]
  },
  {
   "cell_type": "code",
   "execution_count": 3,
   "id": "d54a5bf9",
   "metadata": {
    "execution": {
     "iopub.execute_input": "2022-03-03T04:35:18.640126Z",
     "iopub.status.busy": "2022-03-03T04:35:18.639411Z",
     "iopub.status.idle": "2022-03-03T04:35:18.682390Z",
     "shell.execute_reply": "2022-03-03T04:35:18.682906Z",
     "shell.execute_reply.started": "2022-03-03T04:23:02.732247Z"
    },
    "papermill": {
     "duration": 0.064364,
     "end_time": "2022-03-03T04:35:18.683115",
     "exception": false,
     "start_time": "2022-03-03T04:35:18.618751",
     "status": "completed"
    },
    "tags": []
   },
   "outputs": [
    {
     "data": {
      "text/html": [
       "<div>\n",
       "<style scoped>\n",
       "    .dataframe tbody tr th:only-of-type {\n",
       "        vertical-align: middle;\n",
       "    }\n",
       "\n",
       "    .dataframe tbody tr th {\n",
       "        vertical-align: top;\n",
       "    }\n",
       "\n",
       "    .dataframe thead th {\n",
       "        text-align: right;\n",
       "    }\n",
       "</style>\n",
       "<table border=\"1\" class=\"dataframe\">\n",
       "  <thead>\n",
       "    <tr style=\"text-align: right;\">\n",
       "      <th></th>\n",
       "      <th>Pregnancies</th>\n",
       "      <th>Glucose</th>\n",
       "      <th>BloodPressure</th>\n",
       "      <th>SkinThickness</th>\n",
       "      <th>Insulin</th>\n",
       "      <th>BMI</th>\n",
       "      <th>DiabetesPedigreeFunction</th>\n",
       "      <th>Age</th>\n",
       "      <th>Outcome</th>\n",
       "    </tr>\n",
       "  </thead>\n",
       "  <tbody>\n",
       "    <tr>\n",
       "      <th>count</th>\n",
       "      <td>768.000000</td>\n",
       "      <td>763.000000</td>\n",
       "      <td>733.000000</td>\n",
       "      <td>541.000000</td>\n",
       "      <td>394.000000</td>\n",
       "      <td>757.000000</td>\n",
       "      <td>768.000000</td>\n",
       "      <td>768.000000</td>\n",
       "      <td>768.000000</td>\n",
       "    </tr>\n",
       "    <tr>\n",
       "      <th>mean</th>\n",
       "      <td>3.845052</td>\n",
       "      <td>121.686763</td>\n",
       "      <td>72.405184</td>\n",
       "      <td>29.153420</td>\n",
       "      <td>155.548223</td>\n",
       "      <td>32.457464</td>\n",
       "      <td>0.471876</td>\n",
       "      <td>33.240885</td>\n",
       "      <td>0.348958</td>\n",
       "    </tr>\n",
       "    <tr>\n",
       "      <th>std</th>\n",
       "      <td>3.369578</td>\n",
       "      <td>30.535641</td>\n",
       "      <td>12.382158</td>\n",
       "      <td>10.476982</td>\n",
       "      <td>118.775855</td>\n",
       "      <td>6.924988</td>\n",
       "      <td>0.331329</td>\n",
       "      <td>11.760232</td>\n",
       "      <td>0.476951</td>\n",
       "    </tr>\n",
       "    <tr>\n",
       "      <th>min</th>\n",
       "      <td>0.000000</td>\n",
       "      <td>44.000000</td>\n",
       "      <td>24.000000</td>\n",
       "      <td>7.000000</td>\n",
       "      <td>14.000000</td>\n",
       "      <td>18.200000</td>\n",
       "      <td>0.078000</td>\n",
       "      <td>21.000000</td>\n",
       "      <td>0.000000</td>\n",
       "    </tr>\n",
       "    <tr>\n",
       "      <th>25%</th>\n",
       "      <td>1.000000</td>\n",
       "      <td>99.000000</td>\n",
       "      <td>64.000000</td>\n",
       "      <td>22.000000</td>\n",
       "      <td>76.250000</td>\n",
       "      <td>27.500000</td>\n",
       "      <td>0.243750</td>\n",
       "      <td>24.000000</td>\n",
       "      <td>0.000000</td>\n",
       "    </tr>\n",
       "    <tr>\n",
       "      <th>50%</th>\n",
       "      <td>3.000000</td>\n",
       "      <td>117.000000</td>\n",
       "      <td>72.000000</td>\n",
       "      <td>29.000000</td>\n",
       "      <td>125.000000</td>\n",
       "      <td>32.300000</td>\n",
       "      <td>0.372500</td>\n",
       "      <td>29.000000</td>\n",
       "      <td>0.000000</td>\n",
       "    </tr>\n",
       "    <tr>\n",
       "      <th>75%</th>\n",
       "      <td>6.000000</td>\n",
       "      <td>141.000000</td>\n",
       "      <td>80.000000</td>\n",
       "      <td>36.000000</td>\n",
       "      <td>190.000000</td>\n",
       "      <td>36.600000</td>\n",
       "      <td>0.626250</td>\n",
       "      <td>41.000000</td>\n",
       "      <td>1.000000</td>\n",
       "    </tr>\n",
       "    <tr>\n",
       "      <th>max</th>\n",
       "      <td>17.000000</td>\n",
       "      <td>199.000000</td>\n",
       "      <td>122.000000</td>\n",
       "      <td>99.000000</td>\n",
       "      <td>846.000000</td>\n",
       "      <td>67.100000</td>\n",
       "      <td>2.420000</td>\n",
       "      <td>81.000000</td>\n",
       "      <td>1.000000</td>\n",
       "    </tr>\n",
       "  </tbody>\n",
       "</table>\n",
       "</div>"
      ],
      "text/plain": [
       "       Pregnancies     Glucose  BloodPressure  SkinThickness     Insulin  \\\n",
       "count   768.000000  763.000000     733.000000     541.000000  394.000000   \n",
       "mean      3.845052  121.686763      72.405184      29.153420  155.548223   \n",
       "std       3.369578   30.535641      12.382158      10.476982  118.775855   \n",
       "min       0.000000   44.000000      24.000000       7.000000   14.000000   \n",
       "25%       1.000000   99.000000      64.000000      22.000000   76.250000   \n",
       "50%       3.000000  117.000000      72.000000      29.000000  125.000000   \n",
       "75%       6.000000  141.000000      80.000000      36.000000  190.000000   \n",
       "max      17.000000  199.000000     122.000000      99.000000  846.000000   \n",
       "\n",
       "              BMI  DiabetesPedigreeFunction         Age     Outcome  \n",
       "count  757.000000                768.000000  768.000000  768.000000  \n",
       "mean    32.457464                  0.471876   33.240885    0.348958  \n",
       "std      6.924988                  0.331329   11.760232    0.476951  \n",
       "min     18.200000                  0.078000   21.000000    0.000000  \n",
       "25%     27.500000                  0.243750   24.000000    0.000000  \n",
       "50%     32.300000                  0.372500   29.000000    0.000000  \n",
       "75%     36.600000                  0.626250   41.000000    1.000000  \n",
       "max     67.100000                  2.420000   81.000000    1.000000  "
      ]
     },
     "execution_count": 3,
     "metadata": {},
     "output_type": "execute_result"
    }
   ],
   "source": [
    "df.describe()"
   ]
  },
  {
   "cell_type": "code",
   "execution_count": 4,
   "id": "b32e8e29",
   "metadata": {
    "execution": {
     "iopub.execute_input": "2022-03-03T04:35:18.709590Z",
     "iopub.status.busy": "2022-03-03T04:35:18.708892Z",
     "iopub.status.idle": "2022-03-03T04:35:18.725169Z",
     "shell.execute_reply": "2022-03-03T04:35:18.724380Z",
     "shell.execute_reply.started": "2022-03-03T04:23:06.838916Z"
    },
    "papermill": {
     "duration": 0.030684,
     "end_time": "2022-03-03T04:35:18.725357",
     "exception": false,
     "start_time": "2022-03-03T04:35:18.694673",
     "status": "completed"
    },
    "tags": []
   },
   "outputs": [
    {
     "name": "stdout",
     "output_type": "stream",
     "text": [
      "<class 'pandas.core.frame.DataFrame'>\n",
      "RangeIndex: 768 entries, 0 to 767\n",
      "Data columns (total 9 columns):\n",
      " #   Column                    Non-Null Count  Dtype  \n",
      "---  ------                    --------------  -----  \n",
      " 0   Pregnancies               768 non-null    int64  \n",
      " 1   Glucose                   763 non-null    float64\n",
      " 2   BloodPressure             733 non-null    float64\n",
      " 3   SkinThickness             541 non-null    float64\n",
      " 4   Insulin                   394 non-null    float64\n",
      " 5   BMI                       757 non-null    float64\n",
      " 6   DiabetesPedigreeFunction  768 non-null    float64\n",
      " 7   Age                       768 non-null    float64\n",
      " 8   Outcome                   768 non-null    int64  \n",
      "dtypes: float64(7), int64(2)\n",
      "memory usage: 54.1 KB\n"
     ]
    }
   ],
   "source": [
    "df.info()"
   ]
  },
  {
   "cell_type": "code",
   "execution_count": 5,
   "id": "97818bba",
   "metadata": {
    "execution": {
     "iopub.execute_input": "2022-03-03T04:35:18.753001Z",
     "iopub.status.busy": "2022-03-03T04:35:18.752360Z",
     "iopub.status.idle": "2022-03-03T04:35:18.767642Z",
     "shell.execute_reply": "2022-03-03T04:35:18.768412Z",
     "shell.execute_reply.started": "2022-03-03T04:23:09.779562Z"
    },
    "papermill": {
     "duration": 0.030633,
     "end_time": "2022-03-03T04:35:18.768627",
     "exception": false,
     "start_time": "2022-03-03T04:35:18.737994",
     "status": "completed"
    },
    "tags": []
   },
   "outputs": [
    {
     "name": "stdout",
     "output_type": "stream",
     "text": [
      "<class 'pandas.core.frame.DataFrame'>\n",
      "RangeIndex: 768 entries, 0 to 767\n",
      "Data columns (total 9 columns):\n",
      " #   Column                    Non-Null Count  Dtype  \n",
      "---  ------                    --------------  -----  \n",
      " 0   Pregnancies               768 non-null    float64\n",
      " 1   Glucose                   763 non-null    float64\n",
      " 2   BloodPressure             733 non-null    float64\n",
      " 3   SkinThickness             541 non-null    float64\n",
      " 4   Insulin                   394 non-null    float64\n",
      " 5   BMI                       757 non-null    float64\n",
      " 6   DiabetesPedigreeFunction  768 non-null    float64\n",
      " 7   Age                       768 non-null    float64\n",
      " 8   Outcome                   768 non-null    bool   \n",
      "dtypes: bool(1), float64(8)\n",
      "memory usage: 48.9 KB\n"
     ]
    }
   ],
   "source": [
    "# Create normalized dataset\n",
    "normalized = (df - df.mean()) / df.std()\n",
    "normalized[\"Outcome\"] = (normalized[\"Outcome\"] > 0)\n",
    "# normalized.describe()\n",
    "normalized.info()"
   ]
  },
  {
   "cell_type": "code",
   "execution_count": 6,
   "id": "dd10357e",
   "metadata": {
    "execution": {
     "iopub.execute_input": "2022-03-03T04:35:18.802421Z",
     "iopub.status.busy": "2022-03-03T04:35:18.801736Z",
     "iopub.status.idle": "2022-03-03T04:35:18.806581Z",
     "shell.execute_reply": "2022-03-03T04:35:18.807035Z",
     "shell.execute_reply.started": "2022-03-03T04:23:18.187131Z"
    },
    "papermill": {
     "duration": 0.025667,
     "end_time": "2022-03-03T04:35:18.807204",
     "exception": false,
     "start_time": "2022-03-03T04:35:18.781537",
     "status": "completed"
    },
    "tags": []
   },
   "outputs": [],
   "source": [
    "def get_mean_values(df):\n",
    "    # print(df.head())\n",
    "    mean = df.mean(axis=0)\n",
    "    mean = mean + 2.0\n",
    "    return mean\n",
    "\n",
    "def get_std_deviation(df):\n",
    "    std_dev = df.std()\n",
    "    return std_dev\n",
    "\n",
    "\n",
    "def get_bar_plot_data(normalized_dataset, output_label):\n",
    "    bar_plot_mean_dict = {}\n",
    "    bar_plot_stddev_dict = {}\n",
    "    col_list = list(normalized_dataset.columns)\n",
    "    col_list.remove(output_label)\n",
    "    non_diabetic = normalized_dataset.loc[normalized_dataset[output_label] == 0]\n",
    "    diabetic = normalized_dataset.loc[normalized_dataset[output_label] == 1] \n",
    "    bar_plot_mean_dict[\"diabetic\"] = {}\n",
    "    bar_plot_mean_dict[\"non-diabetic\"] = {}\n",
    "    bar_plot_stddev_dict[\"diabetic\"] = {}\n",
    "    bar_plot_stddev_dict[\"non-diabetic\"] = {}\n",
    "    for column in col_list:\n",
    "        mean_y0 = get_mean_values(non_diabetic[column])\n",
    "        mean_y1 = get_mean_values(diabetic[column])\n",
    "        stddev_y0 = get_std_deviation(non_diabetic[column])\n",
    "        stddev_y1 = get_std_deviation(diabetic[column])\n",
    "        bar_plot_mean_dict[\"non-diabetic\"][column] = mean_y0\n",
    "        bar_plot_mean_dict[\"diabetic\"][column] = mean_y1\n",
    "        bar_plot_stddev_dict[\"non-diabetic\"][column] = stddev_y0\n",
    "        bar_plot_stddev_dict[\"diabetic\"][column] = stddev_y1\n",
    "    return bar_plot_mean_dict, bar_plot_stddev_dict\n",
    "        "
   ]
  },
  {
   "cell_type": "code",
   "execution_count": 7,
   "id": "f3093a5e",
   "metadata": {
    "execution": {
     "iopub.execute_input": "2022-03-03T04:35:18.854948Z",
     "iopub.status.busy": "2022-03-03T04:35:18.839610Z",
     "iopub.status.idle": "2022-03-03T04:35:19.209937Z",
     "shell.execute_reply": "2022-03-03T04:35:19.210497Z",
     "shell.execute_reply.started": "2022-03-03T04:23:21.600444Z"
    },
    "papermill": {
     "duration": 0.391316,
     "end_time": "2022-03-03T04:35:19.210702",
     "exception": false,
     "start_time": "2022-03-03T04:35:18.819386",
     "status": "completed"
    },
    "tags": []
   },
   "outputs": [
    {
     "name": "stdout",
     "output_type": "stream",
     "text": [
      "{'Pregnancies': 2.302892391708013, 'Glucose': 2.6756951997333616, 'BloodPressure': 2.2355198784670467, 'SkinThickness': 2.367145831768641, 'Insulin': 2.4318885384157496, 'BMI': 2.4258928829133994, 'DiabetesPedigreeFunction': 2.23729825647447, 'Age': 2.3253574344350882}\n"
     ]
    },
    {
     "data": {
      "image/png": "[encoded data removed]",
      "text/plain": [
       "<Figure size 1440x504 with 1 Axes>"
      ]
     },
     "metadata": {
      "needs_background": "light"
     },
     "output_type": "display_data"
    }
   ],
   "source": [
    "# Step 1: Use Bar plot to compare feature values by outcome\n",
    "# X - labels are the column names\n",
    "# Y - values are the mean of the column + 2.0\n",
    "import matplotlib.pyplot as plt\n",
    "mean_dict, stddev_dict = get_bar_plot_data(normalized, \"Outcome\")\n",
    "input_features = mean_dict[\"diabetic\"].keys()\n",
    "X_axis = np.arange(len(input_features))\n",
    "y_values_y1 = mean_dict[\"diabetic\"].values()\n",
    "y_values_y0 = mean_dict[\"non-diabetic\"].values()\n",
    "error_y1 = list(stddev_dict[\"diabetic\"].values())\n",
    "error_y0 = list(stddev_dict[\"non-diabetic\"].values())\n",
    "print(mean_dict[\"diabetic\"])\n",
    "fig = plt.figure(figsize = (20, 7))\n",
    "fig.subplots_adjust(hspace=0.4, wspace=0.4)\n",
    "ax1 = fig.add_subplot(1,2,1)\n",
    "ax1.bar(X_axis - 0.2, y_values_y1, color ='red',\n",
    "        width = 0.4, label='Diabetic')\n",
    "ax1.errorbar(X_axis - 0.2, y_values_y1, yerr=error_y1, fmt='none', ecolor = 'black', capsize=2.0, \n",
    "             capthick=1.0)\n",
    "plt.bar(X_axis + 0.2, y_values_y0, color='green', width=0.4, label='Non-diabetic')\n",
    "plt.errorbar(X_axis + 0.2, y_values_y0, yerr=error_y0, fmt='none', ecolor = 'black', capsize=2.0, \n",
    "             capthick=1.0)\n",
    "plt.xlabel(\"Input Features\")\n",
    "plt.ylabel(\"Mean values\")\n",
    "plt.title(\"Distribution of input data\")\n",
    "plt.xticks(X_axis, input_features, rotation=45, ha=\"right\")\n",
    "plt.legend(loc=\"upper right\", bbox_to_anchor=(1,1))\n",
    "plt.tight_layout()\n",
    "plt.show()\n"
   ]
  },
  {
   "cell_type": "markdown",
   "id": "24c28e62",
   "metadata": {
    "papermill": {
     "duration": 0.013468,
     "end_time": "2022-03-03T04:35:19.237847",
     "exception": false,
     "start_time": "2022-03-03T04:35:19.224379",
     "status": "completed"
    },
    "tags": []
   },
   "source": [
    "*The main conclusions we can draw from the plot is that although a lot of variables are indicators for diabetic vs non-diabetic, none of them is a clear indicator. This is because there is significant overlap within 1 standard deviation among the two classes of people.*"
   ]
  },
  {
   "cell_type": "code",
   "execution_count": 8,
   "id": "b17d5f05",
   "metadata": {
    "execution": {
     "iopub.execute_input": "2022-03-03T04:35:19.268471Z",
     "iopub.status.busy": "2022-03-03T04:35:19.267783Z",
     "iopub.status.idle": "2022-03-03T04:35:19.273808Z",
     "shell.execute_reply": "2022-03-03T04:35:19.274419Z",
     "shell.execute_reply.started": "2022-03-03T04:30:56.485204Z"
    },
    "papermill": {
     "duration": 0.023141,
     "end_time": "2022-03-03T04:35:19.274602",
     "exception": false,
     "start_time": "2022-03-03T04:35:19.251461",
     "status": "completed"
    },
    "tags": []
   },
   "outputs": [],
   "source": [
    "# Functions for histogram (Step -2)\n",
    "def plot_histogram(diabetic, non_diabetic, x_label):\n",
    "    # Find the number of bins \n",
    "    nbins = 40\n",
    "    import matplotlib.pyplot as plt \n",
    "    plt.hist(diabetic, bins=nbins, histtype=\"stepfilled\", density=True, color='red', alpha=0.5, label='Diabetic')\n",
    "    plt.hist(non_diabetic, bins=nbins, histtype=\"stepfilled\", density=True, color='green', alpha=0.5, label='Non-Diabetic')\n",
    "    plt.legend()\n",
    "    plt.xlabel(x_label)\n",
    "    plt.show()"
   ]
  },
  {
   "cell_type": "code",
   "execution_count": 9,
   "id": "a2f24045",
   "metadata": {
    "execution": {
     "iopub.execute_input": "2022-03-03T04:35:19.310669Z",
     "iopub.status.busy": "2022-03-03T04:35:19.309986Z",
     "iopub.status.idle": "2022-03-03T04:35:21.064703Z",
     "shell.execute_reply": "2022-03-03T04:35:21.065208Z",
     "shell.execute_reply.started": "2022-03-03T04:30:59.289122Z"
    },
    "papermill": {
     "duration": 1.77704,
     "end_time": "2022-03-03T04:35:21.065391",
     "exception": false,
     "start_time": "2022-03-03T04:35:19.288351",
     "status": "completed"
    },
    "tags": []
   },
   "outputs": [
    {
     "data": {
      "image/png": "[encoded data removed]",
      "text/plain": [
       "<Figure size 432x288 with 1 Axes>"
      ]
     },
     "metadata": {
      "needs_background": "light"
     },
     "output_type": "display_data"
    },
    {
     "data": {
      "image/png": "[encoded data removed]",
      "text/plain": [
       "<Figure size 432x288 with 1 Axes>"
      ]
     },
     "metadata": {
      "needs_background": "light"
     },
     "output_type": "display_data"
    },
    {
     "data": {
      "image/png": "[encoded data removed]",
      "text/plain": [
       "<Figure size 432x288 with 1 Axes>"
      ]
     },
     "metadata": {
      "needs_background": "light"
     },
     "output_type": "display_data"
    },
    {
     "data": {
      "image/png": "[encoded data removed]",
      "text/plain": [
       "<Figure size 432x288 with 1 Axes>"
      ]
     },
     "metadata": {
      "needs_background": "light"
     },
     "output_type": "display_data"
    },
    {
     "data": {
      "image/png": "[encoded data removed]",
      "text/plain": [
       "<Figure size 432x288 with 1 Axes>"
      ]
     },
     "metadata": {
      "needs_background": "light"
     },
     "output_type": "display_data"
    },
    {
     "data": {
      "image/png": "[encoded data removed]",
      "text/plain": [
       "<Figure size 432x288 with 1 Axes>"
      ]
     },
     "metadata": {
      "needs_background": "light"
     },
     "output_type": "display_data"
    },
    {
     "data": {
      "image/png": "[encoded data removed]",
      "text/plain": [
       "<Figure size 432x288 with 1 Axes>"
      ]
     },
     "metadata": {
      "needs_background": "light"
     },
     "output_type": "display_data"
    },
    {
     "data": {
      "image/png": "[encoded data removed]",
      "text/plain": [
       "<Figure size 432x288 with 1 Axes>"
      ]
     },
     "metadata": {
      "needs_background": "light"
     },
     "output_type": "display_data"
    }
   ],
   "source": [
    "# Step 2 - Draw histogram\n",
    "output_label=\"Outcome\"\n",
    "df2 = df.copy()\n",
    "# Remove rows where feature values are missing\n",
    "df2.dropna(inplace=True) \n",
    "df2[\"Outcome\"] = (df2[\"Outcome\"] > 0)\n",
    "col_list = list(df2.columns)\n",
    "col_list.remove(output_label)\n",
    "non_diabetic = df2.loc[df2[output_label] == 0]\n",
    "diabetic = df2.loc[df2[output_label] == 1]\n",
    "for feature in col_list:\n",
    "    x_data_diabetic = list(diabetic[feature])\n",
    "    x_data_non_diabetic = list(non_diabetic[feature])\n",
    "    # print(x_data)\n",
    "    plot_histogram(x_data_diabetic, x_data_non_diabetic, feature)"
   ]
  },
  {
   "cell_type": "markdown",
   "id": "87790136",
   "metadata": {
    "papermill": {
     "duration": 0.018807,
     "end_time": "2022-03-03T04:35:21.104820",
     "exception": false,
     "start_time": "2022-03-03T04:35:21.086013",
     "status": "completed"
    },
    "tags": []
   },
   "source": [
    "By seeing the histograms here, we can conclude that the data of DiabetesPedigreeFunction, BMI, Blood Pressure and Insulin are uniformly distributed. For Glucose, the modal value (value that occurs the most) in case of diabetic patients is 177, and in case of non-diabetic patients is 90."
   ]
  },
  {
   "cell_type": "code",
   "execution_count": 10,
   "id": "59884866",
   "metadata": {
    "execution": {
     "iopub.execute_input": "2022-03-03T04:35:21.146830Z",
     "iopub.status.busy": "2022-03-03T04:35:21.145827Z",
     "iopub.status.idle": "2022-03-03T04:35:22.432190Z",
     "shell.execute_reply": "2022-03-03T04:35:22.432662Z",
     "shell.execute_reply.started": "2022-03-03T04:18:26.324893Z"
    },
    "papermill": {
     "duration": 1.309044,
     "end_time": "2022-03-03T04:35:22.432846",
     "exception": false,
     "start_time": "2022-03-03T04:35:21.123802",
     "status": "completed"
    },
    "tags": []
   },
   "outputs": [
    {
     "data": {
      "text/plain": [
       "<AxesSubplot:>"
      ]
     },
     "execution_count": 10,
     "metadata": {},
     "output_type": "execute_result"
    },
    {
     "data": {
      "image/png": "[encoded data removed]",
      "text/plain": [
       "<Figure size 432x288 with 2 Axes>"
      ]
     },
     "metadata": {
      "needs_background": "light"
     },
     "output_type": "display_data"
    }
   ],
   "source": [
    "# Task 3 : Draw heatmap to find pairs of correlated features\n",
    "import seaborn as sns\n",
    "#Important: Heatmap is drawn using CORRELATION MATRIX OF DATASET.\n",
    "# It's highly important that you find the correlation matrix first.\n",
    "dataset = df.corr()\n",
    "sns.heatmap(dataset, cmap=\"Wistia\")"
   ]
  }
 ],
 "metadata": {
  "kernelspec": {
   "display_name": "Python 3",
   "language": "python",
   "name": "python3"
  },
  "language_info": {
   "codemirror_mode": {
    "name": "ipython",
    "version": 3
   },
   "file_extension": ".py",
   "mimetype": "text/x-python",
   "name": "python",
   "nbconvert_exporter": "python",
   "pygments_lexer": "ipython3",
   "version": "3.7.12"
  },
  "papermill": {
   "default_parameters": {},
   "duration": 14.917572,
   "end_time": "2022-03-03T04:35:23.163388",
   "environment_variables": {},
   "exception": null,
   "input_path": "__notebook__.ipynb",
   "output_path": "__notebook__.ipynb",
   "parameters": {},
   "start_time": "2022-03-03T04:35:08.245816",
   "version": "2.3.3"
  }
 },
 "nbformat": 4,
 "nbformat_minor": 5
}
